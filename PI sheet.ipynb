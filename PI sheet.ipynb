{
 "cells": [
  {
   "cell_type": "code",
   "execution_count": 1,
   "metadata": {
    "collapsed": true
   },
   "outputs": [],
   "source": [
    "# Standard imports\n",
    "import pandas as pd\n",
    "import numpy as np\n",
    "from pandas import DataFrame, Series\n",
    "import matplotlib.pyplot as plt\n",
    "%matplotlib inline\n",
    "\n",
    "import datetime\n",
    "\n",
    "# Include evekit libraries we need for this example\n",
    "from evekit.reference import Client\n",
    "from evekit.online import Download\n",
    "from evekit.marketdata import MarketHistory"
   ]
  },
  {
   "cell_type": "code",
   "execution_count": 2,
   "metadata": {},
   "outputs": [
    {
     "name": "stdout",
     "output_type": "stream",
     "text": [
      "Good\n"
     ]
    }
   ],
   "source": [
    "days = 5 #this is how many days we will be looking back for orders. \n",
    "pi_goods = pd.read_excel('PIgoods.xlsx')\n",
    "date = pd.date_range((datetime.datetime.utcnow() - datetime.timedelta(days=days)),datetime.datetime.utcnow())\n",
    "if len(date) != (1 + days):\n",
    "    print('Possible Error Detected, please check the date range selected')\n",
    "else:\n",
    "    print('Good')"
   ]
  },
  {
   "cell_type": "code",
   "execution_count": 3,
   "metadata": {},
   "outputs": [],
   "source": [
    "goods0r = pi_goods['Level 0']\n",
    "goods1r = pi_goods['Level 1']\n",
    "goods2r = pi_goods['Level 2']\n",
    "goods3r = pi_goods['Level 3']\n",
    "goods4r = pi_goods['Level 4']\n",
    "#this breaks up the lists so we can put them back together later"
   ]
  },
  {
   "cell_type": "code",
   "execution_count": 4,
   "metadata": {},
   "outputs": [],
   "source": [
    "goods0 = goods0r.dropna()\n",
    "goods1 = goods1r.dropna()\n",
    "goods2 = goods2r.dropna()\n",
    "goods3 = goods3r.dropna()\n",
    "goods4 = goods4r.dropna()\n",
    "frames = [goods0,goods1,goods2,goods3,goods4]\n",
    "goodsDF = pd.concat(frames)\n",
    "pricesDF = pd.DataFrame()\n",
    "#this puts together the lists we need of all PI goods in a new DF we can easily access"
   ]
  },
  {
   "cell_type": "code",
   "execution_count": null,
   "metadata": {
    "scrolled": true
   },
   "outputs": [
    {
     "name": "stdout",
     "output_type": "stream",
     "text": [
      "It is possible that some requests will return missing, this is not a big problem as long as one request worked\n",
      "Downloading 2018-05-27 21:22:18.876762...done\n",
      "Downloading 2018-05-28 21:22:18.876762...done\n",
      "Downloading 2018-05-29 21:22:18.876762...done\n",
      "Downloading 2018-05-30 21:22:18.876762...done\n",
      "Downloading 2018-05-31 21:22:18.876762...missing\n",
      "Downloading 2018-06-01 21:22:18.876762...missing\n",
      "Retrieving 2018-05-27 21:22:18.876762...done\n",
      "Retrieving 2018-05-28 21:22:18.876762...done\n",
      "Retrieving 2018-05-29 21:22:18.876762...done\n",
      "Retrieving 2018-05-30 21:22:18.876762...done\n",
      "Retrieving 2018-05-31 21:22:18.876762...done\n",
      "Retrieving 2018-06-01 21:22:18.876762...done\n",
      "Finished Download for Aqueous Liquids\n",
      "Downloading 2018-05-27 21:22:18.876762...done\n",
      "Downloading 2018-05-28 21:22:18.876762...done\n",
      "Downloading 2018-05-29 21:22:18.876762...done\n",
      "Downloading 2018-05-30 21:22:18.876762...done\n",
      "Downloading 2018-05-31 21:22:18.876762...missing\n",
      "Downloading 2018-06-01 21:22:18.876762...missing\n",
      "Retrieving 2018-05-27 21:22:18.876762...done\n",
      "Retrieving 2018-05-28 21:22:18.876762...done\n",
      "Retrieving 2018-05-29 21:22:18.876762...done\n",
      "Retrieving 2018-05-30 21:22:18.876762...done\n",
      "Retrieving 2018-05-31 21:22:18.876762...done\n",
      "Retrieving 2018-06-01 21:22:18.876762...done\n",
      "Finished Download for Autotrophs\n",
      "Downloading 2018-05-27 21:22:18.876762...done\n",
      "Downloading 2018-05-28 21:22:18.876762...done\n",
      "Downloading 2018-05-29 21:22:18.876762...done\n",
      "Downloading 2018-05-30 21:22:18.876762...done\n",
      "Downloading 2018-05-31 21:22:18.876762...missing\n",
      "Downloading 2018-06-01 21:22:18.876762...missing\n",
      "Retrieving 2018-05-27 21:22:18.876762...done\n",
      "Retrieving 2018-05-28 21:22:18.876762...done\n",
      "Retrieving 2018-05-29 21:22:18.876762...done\n",
      "Retrieving 2018-05-30 21:22:18.876762...done\n",
      "Retrieving 2018-05-31 21:22:18.876762...done\n",
      "Retrieving 2018-06-01 21:22:18.876762...done\n",
      "Finished Download for Base Metals\n",
      "Downloading 2018-05-27 21:22:18.876762...done\n",
      "Downloading 2018-05-28 21:22:18.876762...done\n",
      "Downloading 2018-05-29 21:22:18.876762...done\n",
      "Downloading 2018-05-30 21:22:18.876762...done\n",
      "Downloading 2018-05-31 21:22:18.876762...missing\n",
      "Downloading 2018-06-01 21:22:18.876762...missing\n",
      "Retrieving 2018-05-27 21:22:18.876762...done\n",
      "Retrieving 2018-05-28 21:22:18.876762...done\n",
      "Retrieving 2018-05-29 21:22:18.876762...done\n",
      "Retrieving 2018-05-30 21:22:18.876762...done\n",
      "Retrieving 2018-05-31 21:22:18.876762...done\n",
      "Retrieving 2018-06-01 21:22:18.876762...done\n",
      "Finished Download for Carbon Compounds\n",
      "Downloading 2018-05-27 21:22:18.876762...done\n",
      "Downloading 2018-05-28 21:22:18.876762...done\n",
      "Downloading 2018-05-29 21:22:18.876762...done\n",
      "Downloading 2018-05-30 21:22:18.876762..."
     ]
    }
   ],
   "source": [
    "sde_client = Client.SDE.get() #required for evekit to work don't know why\n",
    "region_id = sde_client.Map.getRegions(regionName=\"{values: ['The Forge']}\").result()[0][0]['regionID']\n",
    "print('It is possible that some requests will return missing, this is not a big problem as long as one request worked')\n",
    "\n",
    "for good in goodsDF:\n",
    "    try:\n",
    "        goodString = str(\"\"\"{values: ['\"\"\" + good + \"']}\")\n",
    "        goodID = sde_client.Inventory.getTypes(typeName=goodString).result()[0][0]['typeID']\n",
    "        Download.download_market_history_range(date, \".\", dict(skip_missing=True, tree=True, verbose=True))\n",
    "        priceInfo = MarketHistory.get_data_frame(dates=date, types=[goodID], regions=[region_id], \n",
    "                                              config=dict(local_storage=\".\", tree=True, skip_missing=True, verbose=True))\n",
    "        pricesDF = pricesDF.append(priceInfo)\n",
    "    except:\n",
    "        print('Index Error')\n",
    "        print('Possible failed download for {}'.format(good))\n",
    "    print('Finished Download for {}'.format(good))\n",
    "#using the evekit library this requests and returns statistics about ALL orders for a good in a region. \n",
    "#this will have to changed because it doesn't always work with some goods, and it also takes a very, very long time to resolve\n"
   ]
  },
  {
   "cell_type": "code",
   "execution_count": null,
   "metadata": {},
   "outputs": [],
   "source": [
    "display(pricesDF)"
   ]
  },
  {
   "cell_type": "code",
   "execution_count": null,
   "metadata": {},
   "outputs": [],
   "source": [
    "if len(pricesDF) == len(goodsDF):\n",
    "    print('All order data downloaded')\n",
    "else:\n",
    "    print('Possible error')"
   ]
  },
  {
   "cell_type": "code",
   "execution_count": null,
   "metadata": {
    "collapsed": true
   },
   "outputs": [],
   "source": []
  },
  {
   "cell_type": "code",
   "execution_count": null,
   "metadata": {
    "collapsed": true
   },
   "outputs": [],
   "source": []
  }
 ],
 "metadata": {
  "kernelspec": {
   "display_name": "Python 3",
   "language": "python",
   "name": "python3"
  },
  "language_info": {
   "codemirror_mode": {
    "name": "ipython",
    "version": 3
   },
   "file_extension": ".py",
   "mimetype": "text/x-python",
   "name": "python",
   "nbconvert_exporter": "python",
   "pygments_lexer": "ipython3",
   "version": "3.6.2"
  }
 },
 "nbformat": 4,
 "nbformat_minor": 2
}
