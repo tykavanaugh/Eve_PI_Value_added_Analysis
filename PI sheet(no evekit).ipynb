{
 "cells": [
  {
   "cell_type": "code",
   "execution_count": 24,
   "metadata": {
    "collapsed": true
   },
   "outputs": [],
   "source": [
    "# Standard imports\n",
    "# This script creates an up to date spreadsheet with all the price info we need, which we can easily then paste into\n",
    "# pre-formatted spreadsheet namned !!!name here!!! to return results\n",
    "# You'll need to pip install pandas and numpy for this to work.\n",
    "# I recommend you download Anaconda (an \"environment\" for python) which comes with everything we need already\n",
    "# https://packaging.python.org/tutorials/installing-packages/\n",
    "import pandas as pd\n",
    "import numpy as np\n",
    "from pandas import DataFrame, Series\n",
    "\n",
    "#This is a Jupyter notebook in Python. All that it requires is that you place this script\n",
    "#in a folder with the other spreadsheets this came with, and execute (shift+enter) each cell in order\n",
    "#please contact me on jabber for any questions"
   ]
  },
  {
   "cell_type": "code",
   "execution_count": 25,
   "metadata": {},
   "outputs": [],
   "source": [
    "itemidDF = pd.read_excel('eveItemIDs.xlsx')\n",
    "pricesDF = pd.read_json('https://esi.evetech.net/latest/markets/prices/?datasource=tranquility')\n",
    "#holy fuck it's actually this easy\n",
    "#this accomplished in two lines what that entire other abandoned script was supposed to do \n"
   ]
  },
  {
   "cell_type": "code",
   "execution_count": 26,
   "metadata": {},
   "outputs": [],
   "source": [
    "DFfinal = pd.merge(itemidDF,pricesDF,left_on='typeID',right_on='type_id')\n",
    "#creates a DF with both prices and names using shared item IDs\n",
    "#if new goods are added to the game, then the excel file \"eveItemIDs.xlsx might have to be updated\n",
    "#pricesDF goes straight to ESI so that will update automatically but just running this script"
   ]
  },
  {
   "cell_type": "code",
   "execution_count": 27,
   "metadata": {},
   "outputs": [],
   "source": [
    "DFfinal = DFfinal.drop('Unnamed: 2',axis=1)\n",
    "#cleans up our dataframe"
   ]
  },
  {
   "cell_type": "code",
   "execution_count": 28,
   "metadata": {},
   "outputs": [],
   "source": [
    "pi_goods = pd.read_excel('PIgoods.xlsx')\n",
    "goods0r = pi_goods['Level 0']\n",
    "goods1r = pi_goods['Level 1']\n",
    "goods2r = pi_goods['Level 2']\n",
    "goods3r = pi_goods['Level 3']\n",
    "goods4r = pi_goods['Level 4']\n",
    "#this breaks up the lists so we can put them back together later\n",
    "#this is not the best way to do this but it works I guess"
   ]
  },
  {
   "cell_type": "code",
   "execution_count": 29,
   "metadata": {
    "collapsed": true
   },
   "outputs": [],
   "source": [
    "goods0 = goods0r.dropna()\n",
    "goods1 = goods1r.dropna()\n",
    "goods2 = goods2r.dropna()\n",
    "goods3 = goods3r.dropna()\n",
    "goods4 = goods4r.dropna()\n",
    "frames = [goods0,goods1,goods2,goods3,goods4]\n",
    "goods = pd.concat(frames)\n",
    "#this puts together the lists we need of all PI goods in a new object we can easily access"
   ]
  },
  {
   "cell_type": "code",
   "execution_count": 30,
   "metadata": {},
   "outputs": [],
   "source": [
    "goodsDF = pd.DataFrame(goods,columns=['ItemName'])\n",
    "#turns that object into a DF with an index namned so we can zip it"
   ]
  },
  {
   "cell_type": "code",
   "execution_count": 31,
   "metadata": {
    "scrolled": true
   },
   "outputs": [],
   "source": [
    "PIgoodsDF = pd.merge(goodsDF,DFfinal,how='left',left_on='ItemName',right_on='typeName')\n",
    "#we zip the previous all items and all prices DF to the PI goods and attach the current price for each PI good"
   ]
  },
  {
   "cell_type": "code",
   "execution_count": 32,
   "metadata": {},
   "outputs": [],
   "source": [
    "PIgoodsDF = PIgoodsDF.sort_values('ItemName')\n",
    "#order by item name"
   ]
  },
  {
   "cell_type": "code",
   "execution_count": 33,
   "metadata": {},
   "outputs": [],
   "source": [
    "adjustedPriceDF = PIgoodsDF.filter(['ItemName','adjusted_price'],axis=1)\n",
    "averagePriceDF = PIgoodsDF.filter(['ItemName','average_price'],axis=1)\n",
    "#CCP provides two prices, one a simple average of all market prices, and an \"adjused\" with limited documentation\n",
    "#that's apparently supposed to be more immune to market manipulation"
   ]
  },
  {
   "cell_type": "code",
   "execution_count": 34,
   "metadata": {
    "collapsed": true
   },
   "outputs": [],
   "source": [
    "writer = pd.ExcelWriter('output.xlsx')\n",
    "#just don't touch this"
   ]
  },
  {
   "cell_type": "code",
   "execution_count": 35,
   "metadata": {},
   "outputs": [],
   "source": [
    "adjustedPriceDF.to_excel(writer,'adjustedPrices')\n",
    "averagePriceDF.to_excel(writer,'averagePrices')"
   ]
  },
  {
   "cell_type": "code",
   "execution_count": null,
   "metadata": {
    "collapsed": true
   },
   "outputs": [],
   "source": []
  },
  {
   "cell_type": "code",
   "execution_count": null,
   "metadata": {
    "collapsed": true
   },
   "outputs": [],
   "source": []
  }
 ],
 "metadata": {
  "kernelspec": {
   "display_name": "Python 3",
   "language": "python",
   "name": "python3"
  },
  "language_info": {
   "codemirror_mode": {
    "name": "ipython",
    "version": 3
   },
   "file_extension": ".py",
   "mimetype": "text/x-python",
   "name": "python",
   "nbconvert_exporter": "python",
   "pygments_lexer": "ipython3",
   "version": "3.6.2"
  }
 },
 "nbformat": 4,
 "nbformat_minor": 2
}
